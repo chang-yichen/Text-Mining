{
 "cells": [
  {
   "cell_type": "code",
   "execution_count": 18,
   "id": "e7029882",
   "metadata": {},
   "outputs": [],
   "source": [
    "# imports\n",
    "from config import api_key\n",
    "\n",
    "import requests\n",
    "import json"
   ]
  },
  {
   "cell_type": "code",
   "execution_count": 19,
   "id": "a16b3e93",
   "metadata": {},
   "outputs": [],
   "source": [
    "# variables\n",
    "lat = 24.7875893\n",
    "lng = 120.9969812\n",
    "\n",
    "next_page_tokens_lst = []\n",
    "\n",
    "restuarant_dic = {}\n",
    "\n",
    "# api key (in config.py)\n",
    "API_KEY = api_key\n",
    "\n",
    "# Define the API endpoint for searching nearby restaurants\n",
    "nearby_search_endpoint = 'https://maps.googleapis.com/maps/api/place/nearbysearch/json'\n",
    "\n",
    "# Define the API endpoint for searching places\n",
    "searching_places_endpoint = 'https://maps.googleapis.com/maps/api/place/findplacefromtext/json'\n",
    "\n",
    "# Define the API endpoint for fetching place details\n",
    "fetching_places_endpoint = 'https://maps.googleapis.com/maps/api/place/details/json'\n",
    "\n",
    "# Define the request parameters\n",
    "restaurant_params = {\n",
    "    'key': API_KEY,\n",
    "    'location': f'{lat},{lng}',\n",
    "    'radius': 5000,\n",
    "    'type': 'restaurant'\n",
    "}"
   ]
  },
  {
   "cell_type": "code",
   "execution_count": 7,
   "id": "cf50666a",
   "metadata": {},
   "outputs": [],
   "source": [
    "# helper functions\n",
    "def get_next_page_json_data(json_data, endpoint):\n",
    "    if 'next_page_token' in json_data:\n",
    "        next_page_token = json_data['next_page_token']\n",
    "\n",
    "        # Define the request parameters for fetching the next page of reviews\n",
    "        next_params = {\n",
    "            'key': API_KEY,\n",
    "            'fields': 'name,rating,review',\n",
    "            'pagetoken': next_page_token\n",
    "        }\n",
    "\n",
    "        # Send the request to the Google Places API to fetch the next page of reviews\n",
    "        next_response = requests.get(endpoint, params=next_params)\n",
    "\n",
    "        # Get the JSON response content\n",
    "        json_data = json.loads(next_response.content)\n",
    "\n",
    "        return json_data\n",
    "    \n",
    "def get_restaurant_names(restaurant_dic, json_data):\n",
    "    for result in json_data['results']:\n",
    "        name = result['name']\n",
    "        address = result.get('vicinity', 'N/A')\n",
    "        \n",
    "        restaurant_dic[name] = address\n",
    "    \n",
    "    return restuarant_dic\n",
    "\n",
    "def get_restaurant_reviews_json_data(name, address, restaurant_dic):\n",
    "    try:\n",
    "        # Define the request parameters\n",
    "        params = {\n",
    "            'key': API_KEY,\n",
    "            'input': f'{name} {address}',\n",
    "            'inputtype': 'textquery',\n",
    "            'fields': 'place_id'\n",
    "        }\n",
    "\n",
    "        # Send the request to the Google Places API to search for the place ID\n",
    "        response = requests.get(searching_places_endpoint, params=params)\n",
    "\n",
    "        # Get the JSON response content\n",
    "        json_data = json.loads(response.content)\n",
    "\n",
    "        # Extract the place ID from the response\n",
    "        place_id = json_data['candidates'][0]['place_id']\n",
    "\n",
    "        # Define the request parameters for fetching place details\n",
    "        params = {\n",
    "            'key': API_KEY,\n",
    "            'place_id': place_id,\n",
    "            'fields': 'name,rating,formatted_address,review',\n",
    "            'max_results': 100\n",
    "        }\n",
    "        print(place_id)\n",
    "\n",
    "        # Send the request to the Google Places API to fetch the place details\n",
    "        response = requests.get(fetching_places_endpoint, params=params)\n",
    "\n",
    "        # Get the JSON response content\n",
    "        json_data = json.loads(response.content)\n",
    "        \n",
    "        return json_data\n",
    "    except:\n",
    "        pass\n",
    "        \n",
    "def get_restaurant_reviews(json_data):\n",
    "    try:\n",
    "        # Extract the information you need from the response (e.g. name, rating, address, reviews)\n",
    "        name = json_data['result']['name']\n",
    "        rating = json_data['result'].get('rating', 'N/A')\n",
    "        address = json_data['result'].get('formatted_address', 'N/A')\n",
    "        reviews = json_data['result'].get('reviews', [])\n",
    "\n",
    "        # Loop through the reviews and extract the review text and rating\n",
    "        for review in reviews:\n",
    "            text = review['text']\n",
    "            rating = review.get('rating', 'N/A')\n",
    "\n",
    "            # Do whatever you want with the extracted information (e.g. save it to a file)\n",
    "            if name in reviews_dic:\n",
    "                reviews_dic[name].append([rating, text])\n",
    "            else:\n",
    "                reviews_dic[name] = [rating, text]\n",
    "    except:\n",
    "        pass"
   ]
  },
  {
   "cell_type": "code",
   "execution_count": 8,
   "id": "3ed843b8",
   "metadata": {
    "scrolled": true
   },
   "outputs": [],
   "source": [
    "# Send the request to the Google Places API to search for nearby restaurants\n",
    "response = requests.get(nearby_search_endpoint, params=restaurant_params)\n",
    "\n",
    "# Get the JSON response content\n",
    "json_data = json.loads(response.content)\n",
    "\n",
    "# Get first page of restaurants\n",
    "restuarant_dic = get_restaurant_names(restuarant_dic, json_data)"
   ]
  },
  {
   "cell_type": "code",
   "execution_count": 9,
   "id": "d54cfe06",
   "metadata": {},
   "outputs": [],
   "source": [
    "# get 2nd page of restaurants\n",
    "json_data = get_next_page_json_data(json_data, nearby_search_endpoint)\n",
    "restuarant_dic = get_restaurant_names(restuarant_dic, json_data)"
   ]
  },
  {
   "cell_type": "code",
   "execution_count": 10,
   "id": "b5ae347b",
   "metadata": {},
   "outputs": [],
   "source": [
    "# get 3rd page of restaurants\n",
    "json_data = get_next_page_json_data(json_data, nearby_search_endpoint)\n",
    "restuarant_dic = get_restaurant_names(restuarant_dic, json_data)"
   ]
  },
  {
   "cell_type": "code",
   "execution_count": 11,
   "id": "f92c8ced",
   "metadata": {},
   "outputs": [
    {
     "data": {
      "text/plain": [
       "58"
      ]
     },
     "execution_count": 11,
     "metadata": {},
     "output_type": "execute_result"
    }
   ],
   "source": [
    "len(restuarant_dic)"
   ]
  },
  {
   "cell_type": "code",
   "execution_count": null,
   "id": "26f6a0cf",
   "metadata": {},
   "outputs": [],
   "source": [
    "reviews_dic = {}"
   ]
  },
  {
   "cell_type": "code",
   "execution_count": 12,
   "id": "e15d91d2",
   "metadata": {},
   "outputs": [
    {
     "name": "stdout",
     "output_type": "stream",
     "text": [
      "ChIJa1FP13I2aDQRxBkPogHSIPE\n",
      "ChIJcSaqW-A1aDQRhWAdEK6Ygws\n",
      "ChIJVXDHfz02aDQRgjjwKHILMm4\n",
      "ChIJjbFnWxk2aDQRA59Bt5VeXhQ\n",
      "ChIJMeXSznY2aDQRsaZFfLXHC3o\n",
      "ChIJ18B0wt41aDQR1-xKN8FiW6s\n",
      "ChIJPzXUQDw2aDQRFx810hvCgDs\n",
      "ChIJ91C1wXM2aDQRIXV9sylIRmM\n",
      "ChIJpXPIunI2aDQRQ_YCQKRRHlo\n",
      "ChIJU5t8dOA1aDQRUVEPNtT0GUM\n",
      "ChIJj54jZHY2aDQRDyLokWn3xNA\n",
      "ChIJK4jGljo2aDQRcVnlv_Qg4Gs\n",
      "ChIJcftWbs41aDQR0sq5p61AwK4\n",
      "ChIJESQfVXE2aDQRs4M0ihk1MGY\n",
      "ChIJVVT6j3M2aDQRpvO3L_AWBFs\n",
      "ChIJS_s8HHU2aDQRi5k7bsBOdEc\n",
      "ChIJ-e12Xzw2aDQRdbEAFLBKKWk\n",
      "ChIJ_7fcdME1aDQRgoB2x52LFZU\n",
      "ChIJcxkRHHU2aDQR88yFbvX4DV8\n",
      "ChIJbZAbVnE2aDQRolSy1dAf1Yk\n",
      "ChIJt1e6E3U2aDQROAUjQJ2n1Bg\n",
      "ChIJN9rOU202aDQRzUtatCBAnoc\n",
      "ChIJ66ayunI2aDQR2J-2bgklJ9I\n",
      "ChIJha_4OHI2aDQRqvc9Xq1-t3I\n",
      "ChIJj_Uqiz02aDQReDhxOJ5rg7Y\n",
      "ChIJP3DKzzs2aDQRZVFDNrxUpO0\n",
      "ChIJz77y6981aDQRQ1ye2Ae9kHA\n",
      "ChIJp7D93XI2aDQRwmKgPLq9yjo\n",
      "ChIJ6Qg3-Ws2aDQRvUUx2sSZhBg\n",
      "ChIJP4dimRk2aDQRaBKom_y6_NM\n",
      "ChIJEX6W6sE1aDQRiYUjziT0hvI\n",
      "ChIJr8Xhk9g1aDQRPHY4z6b7ABw\n",
      "ChIJX_4TlnI2aDQRJCVlaaWPknc\n",
      "ChIJC9294xI2aDQRM3uLb9yfs7c\n",
      "ChIJj1VADDs2aDQRJcJbrB6GAw4\n",
      "ChIJET9dFJEEbjQR5y68-EcDJnA\n",
      "ChIJxbx6eNA3aDQRqu-LmcKdvCQ\n",
      "ChIJTVHVv3I2aDQR4tMmX_Un7Ps\n",
      "ChIJvzxa_Ds2aDQRghJsDlOZAOE\n",
      "ChIJ54eTPOo1aDQRdHCwI6h3kxk\n",
      "ChIJ94L6mD02aDQRE2twRqXfnNw\n",
      "ChIJC0KbsuA1aDQR4cMyMxNUQuY\n",
      "ChIJIQaAwXM2aDQRWVe4kB7i9RQ\n",
      "ChIJY1iK1Bc2aDQRki5FUaDX64Y\n",
      "ChIJ_UmSJ3M2aDQRGpQ4UoYLGqg\n",
      "ChIJaQsUtN01aDQRCO2s8wyDq98\n",
      "ChIJ5fBr8uY1aDQRTc42285LE5o\n",
      "ChIJTZG0XuA1aDQRVuZEkf_I2Q8\n",
      "ChIJk8HMWW02aDQRmbbzawI0yQA\n",
      "ChIJ0X4AqeA1aDQRjGrySuEhNTQ\n",
      "ChIJffG8Ajs2aDQRHm2Ugw-yK1g\n",
      "ChIJi5CUVXE2aDQRWY0kRzxdl0c\n"
     ]
    }
   ],
   "source": [
    "for name, address in restuarant_dic.items():\n",
    "    json_data = get_restaurant_reviews_json_data(name, address, restuarant_dic)\n",
    "    get_restaurant_reviews(json_data)"
   ]
  },
  {
   "cell_type": "code",
   "execution_count": null,
   "id": "8a117932",
   "metadata": {},
   "outputs": [],
   "source": [
    "import pandas as pd\n",
    "\n",
    "df = pd.DataFrame.from_dict(reviews_dic) \n",
    "# df.to_csv(r'small_df.csv', index=False, header=True)"
   ]
  },
  {
   "cell_type": "code",
   "execution_count": 16,
   "id": "b7849041",
   "metadata": {},
   "outputs": [
    {
     "name": "stdout",
     "output_type": "stream",
     "text": [
      "Collecting google-services-api\n",
      "  Downloading google_services_api-1.5.0-py3-none-any.whl (12 kB)\n",
      "Requirement already satisfied: requests in c:\\users\\yiche\\anaconda3\\lib\\site-packages (from google-services-api) (2.25.1)\n",
      "Requirement already satisfied: certifi>=2017.4.17 in c:\\users\\yiche\\anaconda3\\lib\\site-packages (from requests->google-services-api) (2022.12.7)\n",
      "Requirement already satisfied: urllib3<1.27,>=1.21.1 in c:\\users\\yiche\\anaconda3\\lib\\site-packages (from requests->google-services-api) (1.26.4)\n",
      "Requirement already satisfied: idna<3,>=2.5 in c:\\users\\yiche\\anaconda3\\lib\\site-packages (from requests->google-services-api) (2.10)\n",
      "Requirement already satisfied: chardet<5,>=3.0.2 in c:\\users\\yiche\\anaconda3\\lib\\site-packages (from requests->google-services-api) (4.0.0)\n",
      "Installing collected packages: google-services-api\n",
      "Successfully installed google-services-api-1.5.0\n",
      "Note: you may need to restart the kernel to use updated packages.\n"
     ]
    }
   ],
   "source": [
    "pip install google-services-api"
   ]
  },
  {
   "cell_type": "code",
   "execution_count": 23,
   "id": "aef1bf95",
   "metadata": {},
   "outputs": [
    {
     "ename": "Exception",
     "evalue": "Response status code: 401",
     "output_type": "error",
     "traceback": [
      "\u001b[1;31m---------------------------------------------------------------------------\u001b[0m",
      "\u001b[1;31mException\u001b[0m                                 Traceback (most recent call last)",
      "\u001b[1;32m<ipython-input-23-4016d1040f7c>\u001b[0m in \u001b[0;36m<module>\u001b[1;34m\u001b[0m\n\u001b[0;32m      1\u001b[0m \u001b[1;32mfrom\u001b[0m \u001b[0moutscraper\u001b[0m \u001b[1;32mimport\u001b[0m \u001b[0mApiClient\u001b[0m\u001b[1;33m\u001b[0m\u001b[1;33m\u001b[0m\u001b[0m\n\u001b[0;32m      2\u001b[0m \u001b[0mapi_client\u001b[0m \u001b[1;33m=\u001b[0m \u001b[0mApiClient\u001b[0m\u001b[1;33m(\u001b[0m\u001b[0mapi_key\u001b[0m\u001b[1;33m=\u001b[0m\u001b[0mAPI_KEY\u001b[0m\u001b[1;33m)\u001b[0m\u001b[1;33m\u001b[0m\u001b[1;33m\u001b[0m\u001b[0m\n\u001b[1;32m----> 3\u001b[1;33m \u001b[0mresult\u001b[0m \u001b[1;33m=\u001b[0m \u001b[0mapi_client\u001b[0m\u001b[1;33m.\u001b[0m\u001b[0mgoogle_maps_reviews\u001b[0m\u001b[1;33m(\u001b[0m\u001b[1;34m'ChIJX_4TlnI2aDQRJCVlaaWPknc'\u001b[0m\u001b[1;33m,\u001b[0m \u001b[0mreviewsLimit\u001b[0m\u001b[1;33m=\u001b[0m\u001b[1;36m20\u001b[0m\u001b[1;33m,\u001b[0m \u001b[0mlanguage\u001b[0m\u001b[1;33m=\u001b[0m\u001b[1;34m'en'\u001b[0m\u001b[1;33m)\u001b[0m\u001b[1;33m\u001b[0m\u001b[1;33m\u001b[0m\u001b[0m\n\u001b[0m\u001b[0;32m      4\u001b[0m \u001b[0mresult\u001b[0m\u001b[1;33m\u001b[0m\u001b[1;33m\u001b[0m\u001b[0m\n",
      "\u001b[1;32m~\\anaconda3\\lib\\site-packages\\outscraper\\api_client.py\u001b[0m in \u001b[0;36mgoogle_maps_reviews\u001b[1;34m(self, query, reviewsLimit, limit, sort, skip, start, cutoff, cutoff_rating, ignore_empty, coordinates, language, region, fields)\u001b[0m\n\u001b[0;32m    310\u001b[0m             \u001b[1;32mreturn\u001b[0m \u001b[0mself\u001b[0m\u001b[1;33m.\u001b[0m\u001b[0m_wait_request_archive\u001b[0m\u001b[1;33m(\u001b[0m\u001b[0mresponse\u001b[0m\u001b[1;33m.\u001b[0m\u001b[0mjson\u001b[0m\u001b[1;33m(\u001b[0m\u001b[1;33m)\u001b[0m\u001b[1;33m[\u001b[0m\u001b[1;34m'id'\u001b[0m\u001b[1;33m]\u001b[0m\u001b[1;33m)\u001b[0m\u001b[1;33m.\u001b[0m\u001b[0mget\u001b[0m\u001b[1;33m(\u001b[0m\u001b[1;34m'data'\u001b[0m\u001b[1;33m,\u001b[0m \u001b[1;33m[\u001b[0m\u001b[1;33m]\u001b[0m\u001b[1;33m)\u001b[0m\u001b[1;33m\u001b[0m\u001b[1;33m\u001b[0m\u001b[0m\n\u001b[0;32m    311\u001b[0m \u001b[1;33m\u001b[0m\u001b[0m\n\u001b[1;32m--> 312\u001b[1;33m         \u001b[1;32mraise\u001b[0m \u001b[0mException\u001b[0m\u001b[1;33m(\u001b[0m\u001b[1;34mf'Response status code: {response.status_code}'\u001b[0m\u001b[1;33m)\u001b[0m\u001b[1;33m\u001b[0m\u001b[1;33m\u001b[0m\u001b[0m\n\u001b[0m\u001b[0;32m    313\u001b[0m \u001b[1;33m\u001b[0m\u001b[0m\n\u001b[0;32m    314\u001b[0m     def google_maps_reviews_v3(self, query: list, reviewsLimit: int = 10, limit: int = 1, sort: str = 'most_relevant',\n",
      "\u001b[1;31mException\u001b[0m: Response status code: 401"
     ]
    }
   ],
   "source": [
    "from outscraper import ApiClient\n",
    "api_client = ApiClient(api_key=API_KEY)\n",
    "result = api_client.google_maps_reviews('ChIJX_4TlnI2aDQRJCVlaaWPknc', reviewsLimit=20, language='en')\n",
    "result"
   ]
  }
 ],
 "metadata": {
  "kernelspec": {
   "display_name": "Python 3",
   "language": "python",
   "name": "python3"
  },
  "language_info": {
   "codemirror_mode": {
    "name": "ipython",
    "version": 3
   },
   "file_extension": ".py",
   "mimetype": "text/x-python",
   "name": "python",
   "nbconvert_exporter": "python",
   "pygments_lexer": "ipython3",
   "version": "3.8.8"
  }
 },
 "nbformat": 4,
 "nbformat_minor": 5
}
