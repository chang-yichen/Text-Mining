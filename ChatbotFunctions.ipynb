{
 "cells": [
  {
   "cell_type": "code",
   "execution_count": 3,
   "metadata": {},
   "outputs": [],
   "source": [
    "import pandas as pd\r\n",
    "df = pd.read_csv(\"small_df.csv\",delimiter=',')\r\n",
    "feature_df = pd.read_csv(\"tfidf_matrix.csv\",delimiter=',')"
   ]
  },
  {
   "cell_type": "code",
   "execution_count": 4,
   "metadata": {},
   "outputs": [],
   "source": [
    "feature_df.drop(columns=['Unnamed: 0'], inplace=True)"
   ]
  },
  {
   "cell_type": "code",
   "execution_count": 5,
   "metadata": {},
   "outputs": [],
   "source": [
    "#load summary\r\n",
    "import csv\r\n",
    "with open(\"Summaries_of_restaurants.csv\", \"r\", newline=\"\") as csvfile:\r\n",
    "  reader = csv.reader(csvfile)\r\n",
    "  summary = {}\r\n",
    "  summ = []\r\n",
    "  for row in reader:\r\n",
    "    summ.append(row[1])\r\n",
    "  i=1\r\n",
    "  for key in df:\r\n",
    "    summary[key] = summ[i]\r\n",
    "    i = i+1"
   ]
  },
  {
   "cell_type": "code",
   "execution_count": 6,
   "metadata": {},
   "outputs": [],
   "source": [
    "def initilizing():\r\n",
    "    corpus = []#all possible valid input words \r\n",
    "    for key in feature_df:\r\n",
    "        corpus.append(key)\r\n",
    "\r\n",
    "    return corpus"
   ]
  },
  {
   "cell_type": "code",
   "execution_count": 7,
   "metadata": {},
   "outputs": [],
   "source": [
    "#rank all restaurants, get their scores, which store in 'ranks'\r\n",
    "#input:a list of string(words from all filters)\r\n",
    "#output:a dictionary, value is the score of restaurant\r\n",
    "def ranking(filter_words, corpus):\r\n",
    "    ranks = {}\r\n",
    "    for key in df:\r\n",
    "        ranks[key] = 0\r\n",
    "    n = 0\r\n",
    "    for word in filter_words: \r\n",
    "        if(word in corpus): \r\n",
    "            i = 0\r\n",
    "            for key in ranks:\r\n",
    "                ranks[key] = (n*ranks[key]+feature_df[word][i])/(n+1)\r\n",
    "                i = i+1\r\n",
    "        n = n+1\r\n",
    "    return ranks"
   ]
  },
  {
   "cell_type": "code",
   "execution_count": 8,
   "metadata": {},
   "outputs": [],
   "source": [
    "#used by submit and next button\r\n",
    "#input:next_time is default when first time called , and a list of four filter words\r\n",
    "#next_time is the time that next button is pressed\r\n",
    "#output:a string(name of a restaurant)\r\n",
    "def submitting_and_next(filter_words=[], next_time=0):\r\n",
    "    corpus = initilizing()\r\n",
    "    ranks = ranking(filter_words, corpus)\r\n",
    "    #pick the (next_times+1)th best restaurant\r\n",
    "    for i in range(next_time+1):\r\n",
    "        recommend = \"十六區和風料理\"\r\n",
    "        highest_score = ranks[\"十六區和風料理\"]\r\n",
    "        for key in ranks:\r\n",
    "            if (ranks[key] > highest_score):\r\n",
    "                recommend = key\r\n",
    "                highest_score = ranks[key]\r\n",
    "        ranks[recommend] = 0\r\n",
    "\r\n",
    "    if(highest_score == 0):\r\n",
    "        return {\"Restaurant\":\"No other recommendation\",\"Summary\":\"NULL\"}\r\n",
    "    return {\"Restaurant\":recommend,\"Summary\":summary[recommend]}"
   ]
  },
  {
   "cell_type": "markdown",
   "metadata": {},
   "source": [
    "## DEMO"
   ]
  },
  {
   "cell_type": "code",
   "execution_count": 9,
   "metadata": {},
   "outputs": [],
   "source": [
    "filter_words = [\"flavor\",\"beef\"]"
   ]
  },
  {
   "cell_type": "code",
   "execution_count": 10,
   "metadata": {},
   "outputs": [
    {
     "data": {
      "text/plain": [
       "{'Restaurant': '如意麵食館 牛肉麵',\n",
       " 'Summary': 'Pumpkin beef soup is delicious,noodle itself was just ok,not special. Peanut beef roll was also tasty,especially skin was the best in Hsinchu,with peanut butter inside. Not the best beef noodle Ive had, but definitely the most creative. They also sell different soup base beef noodles, like tomato and pumpkin.'}"
      ]
     },
     "execution_count": 10,
     "metadata": {},
     "output_type": "execute_result"
    }
   ],
   "source": [
    "submitting_and_next(filter_words)"
   ]
  },
  {
   "cell_type": "code",
   "execution_count": 11,
   "metadata": {},
   "outputs": [
    {
     "data": {
      "text/plain": [
       "{'Restaurant': 'Shi Tzi Beef Noodles',\n",
       " 'Summary': 'The beef noodles were good and had a decent amount of tender meat for 120NT. The store is known for their rolls though, so make sure to try those! Although a little bit dry, they were full of flavor and very tasty. On a Friday around 6:30 there was around a ten minute wait.'}"
      ]
     },
     "execution_count": 11,
     "metadata": {},
     "output_type": "execute_result"
    }
   ],
   "source": [
    "# first time use next\r\n",
    "submitting_and_next(filter_words,1)"
   ]
  },
  {
   "cell_type": "code",
   "execution_count": 20,
   "metadata": {},
   "outputs": [
    {
     "name": "stdout",
     "output_type": "stream",
     "text": [
      "{'Restaurant': 'Duan Chun Zhen', 'Summary': 'I have the beef noodle here.The taste is really nice, serve with a big chunk of beef.The soup is a bit too salty but overall I still love the taste here. The price is pretty expensive compared to other shops. The beef noodles of Dian Chin Zhen must be enjoyed here in Hsinchu.'}\n",
      "{'Restaurant': '八分飽餐廳', 'Summary': 'Good solid food. Clean tasting with subtle flavors for my Western palette. My favorite was the sour vegetables with beef wraps. Free all you can eat ice cream. They offer business lunch for $100+ per dish plus service charge. If you are looking for a bugget Chinese style meal, this is an good option.'}\n",
      "{'Restaurant': '我的小館', 'Summary': 'They raised their prices some time ago, which is a pity as their prices was one good thing about it. The boss here is very good, makes foreigners comfortable and they have English menu too! Must try the vegetarian noodle with peanut flavor, its too good. No beef no pork folks, go for egg fried rice or spicy noodles.'}\n"
     ]
    }
   ],
   "source": [
    "# second time use next\r\n",
    "for i in range(2,5):\r\n",
    "    print(submitting_and_next(filter_words,i))\r\n"
   ]
  }
 ],
 "metadata": {
  "interpreter": {
   "hash": "9fed83269f86bf221e676bbe433824654e89693622224fbf48225c086bf7076f"
  },
  "kernelspec": {
   "display_name": "Python 3.9.6 64-bit",
   "name": "python3"
  },
  "language_info": {
   "codemirror_mode": {
    "name": "ipython",
    "version": 3
   },
   "file_extension": ".py",
   "mimetype": "text/x-python",
   "name": "python",
   "nbconvert_exporter": "python",
   "pygments_lexer": "ipython3",
   "version": "3.9.6"
  },
  "orig_nbformat": 4
 },
 "nbformat": 4,
 "nbformat_minor": 2
}