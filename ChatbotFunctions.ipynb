{
 "cells": [
  {
   "cell_type": "code",
   "execution_count": 9,
   "metadata": {},
   "outputs": [],
   "source": [
    "import pandas as pd\n",
    "df = pd.read_csv(\"small_df.csv\",delimiter=',')\n",
    "feature_df = pd.read_csv(\"tfidf_matrix.csv\",delimiter=',')"
   ]
  },
  {
   "cell_type": "code",
   "execution_count": 10,
   "metadata": {},
   "outputs": [],
   "source": [
    "feature_df.drop(columns=['Unnamed: 0'], inplace=True)"
   ]
  },
  {
   "cell_type": "code",
   "execution_count": 11,
   "metadata": {},
   "outputs": [],
   "source": [
    "# load the URL data\n",
    "url_dict = pd.read_csv(\"restaurant_url.csv\", header=None, index_col=0)\n",
    "url_dict = url_dict[1].to_dict()\n",
    "# delete the header\n",
    "del url_dict['Restaurant']\n"
   ]
  },
  {
   "cell_type": "code",
   "execution_count": 12,
   "metadata": {},
   "outputs": [],
   "source": [
    "#load summary\n",
    "import csv\n",
    "with open(\"Summaries_of_restaurants.csv\", \"r\", newline=\"\") as csvfile:\n",
    "  reader = csv.reader(csvfile)\n",
    "  summary = {}\n",
    "  summ = []\n",
    "  for row in reader:\n",
    "    summ.append(row[1])\n",
    "  i=1\n",
    "  for key in df:\n",
    "    summary[key] = summ[i]\n",
    "    i = i+1"
   ]
  },
  {
   "cell_type": "code",
   "execution_count": 13,
   "metadata": {},
   "outputs": [],
   "source": [
    "def initilizing():\n",
    "    corpus = []#all possible valid input words \n",
    "    for key in feature_df:\n",
    "        corpus.append(key)\n",
    "\n",
    "    return corpus"
   ]
  },
  {
   "cell_type": "code",
   "execution_count": 14,
   "metadata": {},
   "outputs": [],
   "source": [
    "#rank all restaurants, get their scores, which store in 'ranks'\n",
    "#input:a list of string(words from all filters)\n",
    "#output:a dictionary, value is the score of restaurant\n",
    "def ranking(filter_words, corpus):\n",
    "    ranks = {}\n",
    "    for key in df:\n",
    "        ranks[key] = 0\n",
    "    n = 0\n",
    "    for word in filter_words: \n",
    "        if(word in corpus): \n",
    "            i = 0\n",
    "            for key in ranks:\n",
    "                ranks[key] = (n*ranks[key]+feature_df[word][i])/(n+1)\n",
    "                i = i+1\n",
    "        n = n+1\n",
    "    return ranks"
   ]
  },
  {
   "cell_type": "code",
   "execution_count": 15,
   "metadata": {},
   "outputs": [],
   "source": [
    "#used by submit and next button\n",
    "#input:next_time is default when first time called , and a list of four filter words\n",
    "#next_time is the time that next button is pressed\n",
    "#output:a string(name of a restaurant)\n",
    "def submitting_and_next(filter_words=[], next_time=0):\n",
    "    corpus = initilizing()\n",
    "    ranks = ranking(filter_words, corpus)\n",
    "    #pick the (next_times+1)th best restaurant\n",
    "    for i in range(next_time+1):\n",
    "        recommend = \"十六區和風料理\"\n",
    "        highest_score = ranks[\"十六區和風料理\"]\n",
    "        for key in ranks:\n",
    "            if (ranks[key] > highest_score):\n",
    "                recommend = key\n",
    "                highest_score = ranks[key]\n",
    "        ranks[recommend] = 0\n",
    "\n",
    "    if(highest_score == 0):\n",
    "        return {\"Restaurant\":\"No other recommendation\",\"Summary\":\"NULL\"}\n",
    "    return {\"Restaurant\":recommend,\"Summary\":summary[recommend], \"URL\":url_dict[recommend]}"
   ]
  },
  {
   "attachments": {},
   "cell_type": "markdown",
   "metadata": {},
   "source": [
    "## DEMO"
   ]
  },
  {
   "cell_type": "code",
   "execution_count": 16,
   "metadata": {},
   "outputs": [],
   "source": [
    "filter_words = [\"flavor\",\"beef\"]"
   ]
  },
  {
   "cell_type": "code",
   "execution_count": 17,
   "metadata": {},
   "outputs": [
    {
     "data": {
      "text/plain": [
       "{'Restaurant': '如意麵食館 牛肉麵',\n",
       " 'Summary': 'Pumpkin beef soup is delicious,noodle itself was just ok,not special. Peanut beef roll was also tasty,especially skin was the best in Hsinchu,with peanut butter inside. Not the best beef noodle Ive had, but definitely the most creative. They also sell different soup base beef noodles, like tomato and pumpkin.',\n",
       " 'URL': 'https://www.google.com/maps/place/%E5%A6%82%E6%84%8F%E9%BA%B5%E9%A3%9F%E9%A4%A8+%E7%89%9B%E8%82%89%E9%BA%B5/@24.8007444,120.9860451,17z/data=!3m1!4b1!4m6!3m5!1s0x346835e05eb4914d:0xfd9c8ff9144e656!8m2!3d24.8007396!4d120.98862!16s%2Fg%2F1tfrdhky?entry=ttu'}"
      ]
     },
     "execution_count": 17,
     "metadata": {},
     "output_type": "execute_result"
    }
   ],
   "source": [
    "submitting_and_next(filter_words)"
   ]
  },
  {
   "cell_type": "code",
   "execution_count": 18,
   "metadata": {},
   "outputs": [
    {
     "data": {
      "text/plain": [
       "{'Restaurant': 'Shi Tzi Beef Noodles',\n",
       " 'Summary': 'The beef noodles were good and had a decent amount of tender meat for 120NT. The store is known for their rolls though, so make sure to try those! Although a little bit dry, they were full of flavor and very tasty. On a Friday around 6:30 there was around a ten minute wait.',\n",
       " 'URL': 'https://www.google.com/maps/place/%E7%92%BD%E5%AD%90%E7%89%9B%E8%82%89%E9%BA%B5/@24.7971102,120.9847323,16.71z/data=!4m6!3m5!1s0x346835e05baa2671:0xb8398ae101d6085!8m2!3d24.7974231!4d120.985294!16s%2Fg%2F1tzvt8yq?entry=ttu'}"
      ]
     },
     "execution_count": 18,
     "metadata": {},
     "output_type": "execute_result"
    }
   ],
   "source": [
    "# first time use next\n",
    "submitting_and_next(filter_words,1)"
   ]
  },
  {
   "cell_type": "code",
   "execution_count": 19,
   "metadata": {},
   "outputs": [
    {
     "name": "stdout",
     "output_type": "stream",
     "text": [
      "{'Restaurant': 'Duan Chun Zhen', 'Summary': 'I have the beef noodle here.The taste is really nice, serve with a big chunk of beef.The soup is a bit too salty but overall I still love the taste here. The price is pretty expensive compared to other shops. The beef noodles of Dian Chin Zhen must be enjoyed here in Hsinchu.', 'URL': 'https://www.google.com/maps/place/%E6%AE%B5%E7%B4%94%E8%B2%9E%E5%BB%BA%E5%8A%9F%E5%BA%97/@24.8023115,120.9923741,18.29z/data=!4m6!3m5!1s0x34683671561b906d:0x89d51fd0d5b254a2!8m2!3d24.8026457!4d120.9937853!16s%2Fg%2F1tx44s4c?entry=ttu'}\n",
      "{'Restaurant': '八分飽餐廳', 'Summary': 'Good solid food. Clean tasting with subtle flavors for my Western palette. My favorite was the sour vegetables with beef wraps. Free all you can eat ice cream. They offer business lunch for $100+ per dish plus service charge. If you are looking for a bugget Chinese style meal, this is an good option.', 'URL': 'https://www.google.com/maps/search/%E5%85%AB%E5%88%86%E9%A3%BD%E9%A4%90%E5%BB%B3/@24.7868207,120.9988574,14z/data=!3m1!4b1?entry=ttu'}\n",
      "{'Restaurant': '我的小館', 'Summary': 'They raised their prices some time ago, which is a pity as their prices was one good thing about it. The boss here is very good, makes foreigners comfortable and they have English menu too! Must try the vegetarian noodle with peanut flavor, its too good. No beef no pork folks, go for egg fried rice or spicy noodles.', 'URL': 'https://www.google.com/maps/place/%E6%88%91%E7%9A%84%E5%B0%8F%E9%A4%A8/@24.7961004,120.9970014,17z/data=!3m1!4b1!4m6!3m5!1s0x3468366d53ceda37:0x879e4020b45a4bcd!8m2!3d24.7960956!4d120.9995763!16s%2Fg%2F1tjwfh4x?entry=ttu'}\n"
     ]
    }
   ],
   "source": [
    "# second time use next\n",
    "for i in range(2,5):\n",
    "    print(submitting_and_next(filter_words,i))\n"
   ]
  }
 ],
 "metadata": {
  "interpreter": {
   "hash": "9fed83269f86bf221e676bbe433824654e89693622224fbf48225c086bf7076f"
  },
  "kernelspec": {
   "display_name": "Python 3.9.6 64-bit",
   "name": "python3"
  },
  "language_info": {
   "codemirror_mode": {
    "name": "ipython",
    "version": 3
   },
   "file_extension": ".py",
   "mimetype": "text/x-python",
   "name": "python",
   "nbconvert_exporter": "python",
   "pygments_lexer": "ipython3",
   "version": "3.10.11"
  },
  "orig_nbformat": 4
 },
 "nbformat": 4,
 "nbformat_minor": 2
}
