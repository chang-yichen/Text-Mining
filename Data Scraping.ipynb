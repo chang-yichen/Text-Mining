{
 "cells": [
  {
   "cell_type": "code",
   "execution_count": 230,
   "id": "e7029882",
   "metadata": {},
   "outputs": [],
   "source": [
    "# imports\n",
    "from config import api_key\n",
    "\n",
    "import requests\n",
    "import json"
   ]
  },
  {
   "cell_type": "code",
   "execution_count": 231,
   "id": "e688063b",
   "metadata": {},
   "outputs": [],
   "source": [
    "# variables\n",
    "lat = 24.7875893\n",
    "lng = 120.9969812\n",
    "\n",
    "next_page_tokens_lst = []\n",
    "\n",
    "restuarant_dic = {}\n",
    "\n",
    "# api key (in config.py)\n",
    "API_KEY = api_key\n",
    "\n",
    "# Define the API endpoint for searching nearby restaurants\n",
    "nearby_search_endpoint = 'https://maps.googleapis.com/maps/api/place/nearbysearch/json'\n",
    "\n",
    "# Define the request parameters\n",
    "restaurant_params = {\n",
    "    'key': API_KEY,\n",
    "    'location': f'{lat},{lng}',\n",
    "    'radius': 5000,\n",
    "    'type': 'restaurant'\n",
    "}"
   ]
  },
  {
   "cell_type": "code",
   "execution_count": 232,
   "id": "8a517bd4",
   "metadata": {},
   "outputs": [],
   "source": [
    "# helper functions\n",
    "def get_next_page_json_data(json_data):\n",
    "    if 'next_page_token' in json_data:\n",
    "        next_page_token = json_data['next_page_token']\n",
    "\n",
    "        # Define the request parameters for fetching the next page of reviews\n",
    "        next_params = {\n",
    "            'key': API_KEY,\n",
    "            'place_id': place_id,\n",
    "            'fields': 'name,rating,review',\n",
    "            'pagetoken': next_page_token\n",
    "        }\n",
    "\n",
    "        # Send the request to the Google Places API to fetch the next page of reviews\n",
    "        next_response = requests.get(endpoint, params=next_params)\n",
    "\n",
    "        # Get the JSON response content\n",
    "        json_data = json.loads(next_response.content)\n",
    "\n",
    "        return json_data\n",
    "    \n",
    "def get_restaurant_names(restaurant_dic, json_data):\n",
    "    for result in json_data['results']:\n",
    "        name = result['name']\n",
    "        address = result.get('vicinity', 'N/A')\n",
    "        \n",
    "        restaurant_dic[name] = address\n",
    "    \n",
    "    return restuarant_dic"
   ]
  },
  {
   "cell_type": "code",
   "execution_count": 233,
   "id": "3ed843b8",
   "metadata": {
    "scrolled": true
   },
   "outputs": [],
   "source": [
    "# Send the request to the Google Places API to search for nearby restaurants\n",
    "response = requests.get(nearby_search_endpoint, params=restaurant_params)\n",
    "\n",
    "# Get the JSON response content\n",
    "json_data = json.loads(response.content)\n",
    "\n",
    "# Get first page of restaurants\n",
    "restuarant_dic = get_restaurant_names(restuarant_dic, json_data)"
   ]
  },
  {
   "cell_type": "code",
   "execution_count": 235,
   "id": "b1a698c9",
   "metadata": {},
   "outputs": [],
   "source": [
    "# get 2nd page of restaurants\n",
    "json_data = get_next_page_json_data(json_data)\n",
    "restuarant_dic = get_restaurant_names(restuarant_dic, json_data)"
   ]
  },
  {
   "cell_type": "code",
   "execution_count": 237,
   "id": "d2a1f3e9",
   "metadata": {},
   "outputs": [],
   "source": [
    "# get 3rd page of restaurants\n",
    "json_data = get_next_page_json_data(json_data)\n",
    "restuarant_dic = get_restaurant_names(restuarant_dic, json_data)"
   ]
  },
  {
   "cell_type": "code",
   "execution_count": 239,
   "id": "ce119a44",
   "metadata": {},
   "outputs": [
    {
     "data": {
      "text/plain": [
       "58"
      ]
     },
     "execution_count": 239,
     "metadata": {},
     "output_type": "execute_result"
    }
   ],
   "source": [
    "len(restuarant_dic)"
   ]
  }
 ],
 "metadata": {
  "kernelspec": {
   "display_name": "Python 3",
   "language": "python",
   "name": "python3"
  },
  "language_info": {
   "codemirror_mode": {
    "name": "ipython",
    "version": 3
   },
   "file_extension": ".py",
   "mimetype": "text/x-python",
   "name": "python",
   "nbconvert_exporter": "python",
   "pygments_lexer": "ipython3",
   "version": "3.8.8"
  }
 },
 "nbformat": 4,
 "nbformat_minor": 5
}
