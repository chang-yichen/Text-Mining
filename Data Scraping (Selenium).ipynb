{
 "cells": [
  {
   "cell_type": "code",
   "execution_count": 32,
   "id": "fe8576dc",
   "metadata": {},
   "outputs": [
    {
     "name": "stdout",
     "output_type": "stream",
     "text": [
      "Collecting parsel\n",
      "  Downloading parsel-1.7.0-py2.py3-none-any.whl (14 kB)\n",
      "Collecting w3lib>=1.19.0\n",
      "  Downloading w3lib-2.1.1-py3-none-any.whl (21 kB)\n",
      "Collecting cssselect>=0.9\n",
      "  Downloading cssselect-1.2.0-py2.py3-none-any.whl (18 kB)\n",
      "Requirement already satisfied: packaging in c:\\users\\yiche\\anaconda3\\lib\\site-packages (from parsel) (21.3)\n",
      "Requirement already satisfied: lxml in c:\\users\\yiche\\anaconda3\\lib\\site-packages (from parsel) (4.6.3)\n",
      "Requirement already satisfied: pyparsing!=3.0.5,>=2.0.2 in c:\\users\\yiche\\anaconda3\\lib\\site-packages (from packaging->parsel) (2.4.7)\n",
      "Installing collected packages: w3lib, cssselect, parsel\n",
      "Successfully installed cssselect-1.2.0 parsel-1.7.0 w3lib-2.1.1\n",
      "Note: you may need to restart the kernel to use updated packages.\n"
     ]
    }
   ],
   "source": [
    "pip install parsel"
   ]
  },
  {
   "cell_type": "code",
   "execution_count": 33,
   "id": "bb950abc",
   "metadata": {},
   "outputs": [
    {
     "name": "stderr",
     "output_type": "stream",
     "text": [
      "<ipython-input-33-62f49cd3302f>:5: DeprecationWarning: executable_path has been deprecated, please pass in a Service object\n",
      "  driver = webdriver.Chrome(chromedrive_path)\n"
     ]
    }
   ],
   "source": [
    "from selenium import webdriver\n",
    "\n",
    "\n",
    "chromedrive_path = './chromedriver' # use the path to the driver you downloaded from previous steps\n",
    "driver = webdriver.Chrome(chromedrive_path)"
   ]
  },
  {
   "cell_type": "code",
   "execution_count": 34,
   "id": "22b65ab8",
   "metadata": {},
   "outputs": [],
   "source": [
    "url = 'https://www.google.com/search?q=restaurants+near+nthu&rlz=1C1UEAD_enSG945SG945&oq=restaurants+near+nthu&aqs=chrome..69i57j33i160l4.7493j0j7&sourceid=chrome&ie=UTF-8'\n",
    "driver.get(url)"
   ]
  },
  {
   "cell_type": "code",
   "execution_count": 35,
   "id": "3176501e",
   "metadata": {},
   "outputs": [],
   "source": [
    "page_content = driver.page_source"
   ]
  },
  {
   "cell_type": "code",
   "execution_count": 38,
   "id": "c4019365",
   "metadata": {},
   "outputs": [],
   "source": [
    "from parsel import Selector\n",
    "\n",
    "response = Selector(page_content)"
   ]
  },
  {
   "cell_type": "code",
   "execution_count": 39,
   "id": "d0cf74d6",
   "metadata": {},
   "outputs": [
    {
     "name": "stdout",
     "output_type": "stream",
     "text": [
      "[]\n"
     ]
    }
   ],
   "source": [
    "results = []\n",
    "\n",
    "for el in response.xpath('//div[contains(@aria-label, \"Results for\")]/div/div[./a]'):\n",
    "    results.append({\n",
    "        'link': el.xpath('./a/@href').extract_first(''),\n",
    "        'title': el.xpath('./a/@aria-label').extract_first('')\n",
    "    })\n",
    "\n",
    "print(results)"
   ]
  },
  {
   "cell_type": "code",
   "execution_count": null,
   "id": "b9c30d69",
   "metadata": {},
   "outputs": [],
   "source": []
  },
  {
   "cell_type": "code",
   "execution_count": null,
   "id": "c8cbeba0",
   "metadata": {},
   "outputs": [],
   "source": []
  },
  {
   "cell_type": "code",
   "execution_count": null,
   "id": "694673ee",
   "metadata": {},
   "outputs": [],
   "source": []
  },
  {
   "cell_type": "code",
   "execution_count": null,
   "id": "b7192cfe",
   "metadata": {},
   "outputs": [],
   "source": []
  }
 ],
 "metadata": {
  "kernelspec": {
   "display_name": "Python 3",
   "language": "python",
   "name": "python3"
  },
  "language_info": {
   "codemirror_mode": {
    "name": "ipython",
    "version": 3
   },
   "file_extension": ".py",
   "mimetype": "text/x-python",
   "name": "python",
   "nbconvert_exporter": "python",
   "pygments_lexer": "ipython3",
   "version": "3.8.8"
  }
 },
 "nbformat": 4,
 "nbformat_minor": 5
}
